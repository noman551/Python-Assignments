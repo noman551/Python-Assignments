{
 "cells": [
  {
   "cell_type": "code",
   "execution_count": 15,
   "metadata": {},
   "outputs": [
    {
     "name": "stdout",
     "output_type": "stream",
     "text": [
      "55\n"
     ]
    }
   ],
   "source": [
    "# Program to check if there is any numeric value in the list\n",
    "\n",
    "list = ['Waleed','Anwar',55,0.25,True]\n",
    "for i in list:\n",
    "    if(i==55):\n",
    "        print(i)\n",
    "        break\n",
    "else:\n",
    "    print('there is no numeric value')"
   ]
  },
  {
   "cell_type": "code",
   "execution_count": 18,
   "metadata": {},
   "outputs": [
    {
     "name": "stdout",
     "output_type": "stream",
     "text": [
      "{1, 10.2}\n",
      "{1, 10.2, 'Anwar'}\n"
     ]
    }
   ],
   "source": [
    "# Python Script to add a key in a dictionary\n",
    "\n",
    "d = {10.2,1}\n",
    "print(d)\n",
    "d.update({'Anwar'})\n",
    "print(d)"
   ]
  },
  {
   "cell_type": "code",
   "execution_count": 26,
   "metadata": {},
   "outputs": [
    {
     "name": "stdout",
     "output_type": "stream",
     "text": [
      "600\n"
     ]
    }
   ],
   "source": [
    "# Python Program to sum all the numeric values in a dictionary\n",
    "\n",
    "dict = {'data 1':100,'data 2':200,'data 3':300}\n",
    "print(sum(dict.values()))"
   ]
  },
  {
   "cell_type": "code",
   "execution_count": 1,
   "metadata": {},
   "outputs": [
    {
     "name": "stdout",
     "output_type": "stream",
     "text": [
      "[3, 9, 12]\n"
     ]
    }
   ],
   "source": [
    "# Program to identify duplicate values in a list:\n",
    "\n",
    "lst = [ 3, 6, 9, 12, 3, 30, 15, 9, 45, 36, 12, 12]\n",
    "dupItems = []\n",
    "uniqItems = {}\n",
    "for x in lst:\n",
    "   if x not in uniqItems:\n",
    "      uniqItems[x] = 1\n",
    "   else:\n",
    "      if uniqItems[x] == 1:\n",
    "         dupItems.append(x)\n",
    "      uniqItems[x] += 1\n",
    "print(dupItems)"
   ]
  },
  {
   "cell_type": "code",
   "execution_count": 2,
   "metadata": {},
   "outputs": [
    {
     "name": "stdout",
     "output_type": "stream",
     "text": [
      "Key is present in the dictionary\n",
      "Key is not present in the dictionary\n"
     ]
    }
   ],
   "source": [
    "# Write a Python program to check if a given key already exists in a dictionary.\n",
    "\n",
    "d = {1: 10, 2: 20, 3: 30, 4: 40, 5: 50, 6: 60}\n",
    "def is_key_present(x):\n",
    "  if x in d:\n",
    "      print('Key is present in the dictionary')\n",
    "  else:\n",
    "      print('Key is not present in the dictionary')\n",
    "is_key_present(5)\n",
    "is_key_present(9)"
   ]
  },
  {
   "cell_type": "code",
   "execution_count": 36,
   "metadata": {},
   "outputs": [
    {
     "name": "stdout",
     "output_type": "stream",
     "text": [
      "Enter first Number22\n",
      "Enter second Number55\n",
      "Enter Operation to Perform-\n",
      "-33\n"
     ]
    }
   ],
   "source": [
    "# To make a Calculator:\n",
    "\n",
    "num1 = int(input(\"Enter first Number\"))\n",
    "num2 = int(input(\"Enter second Number\"))\n",
    "operator = input(\"Enter Operation to Perform\")\n",
    "                \n",
    "if operator == '+':\n",
    "    num3 = num1 + num2\n",
    "    print(num3)\n",
    "        \n",
    "elif operator == '-':\n",
    "    num3 = num1-num2\n",
    "    print(num3)\n",
    "        \n",
    "elif operator == '*':\n",
    "    num3 = num1*num2\n",
    "    print(num3)\n",
    "    \n",
    "elif operator == '/':\n",
    "    num3 = num1/num2\n",
    "    print(num3)\n",
    "    \n",
    "else:\n",
    "    print(\"Operation doesn't Exsists\")"
   ]
  },
  {
   "cell_type": "code",
   "execution_count": null,
   "metadata": {},
   "outputs": [],
   "source": []
  }
 ],
 "metadata": {
  "kernelspec": {
   "display_name": "Python 3",
   "language": "python",
   "name": "python3"
  },
  "language_info": {
   "codemirror_mode": {
    "name": "ipython",
    "version": 3
   },
   "file_extension": ".py",
   "mimetype": "text/x-python",
   "name": "python",
   "nbconvert_exporter": "python",
   "pygments_lexer": "ipython3",
   "version": "3.7.1"
  }
 },
 "nbformat": 4,
 "nbformat_minor": 2
}
