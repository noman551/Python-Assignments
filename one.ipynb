{
 "cells": [
  {
   "cell_type": "code",
   "execution_count": 3,
   "metadata": {},
   "outputs": [
    {
     "name": "stdout",
     "output_type": "stream",
     "text": [
      "Python Version i am using\n",
      "3.7.3 (default, Mar 28 2019, 10:38:38) [MSC v.1915 32 bit (Intel)]\n",
      "sys.version_info(major=3, minor=7, micro=3, releaselevel='final', serial=0)\n"
     ]
    }
   ],
   "source": [
    "# Python Version\n",
    "import sys\n",
    "print(\"Python Version i am using\")\n",
    "py = sys.version\n",
    "ab = sys.version_info\n",
    "print(py)\n",
    "print(ab)"
   ]
  },
  {
   "cell_type": "code",
   "execution_count": 4,
   "metadata": {},
   "outputs": [
    {
     "name": "stdout",
     "output_type": "stream",
     "text": [
      "Current date and time : \n",
      "2019-11-02 17:21:22\n"
     ]
    }
   ],
   "source": [
    "# python Program to Print Current date and time.\n",
    "import datetime\n",
    "now = datetime.datetime.now()\n",
    "print (\"Current date and time : \")\n",
    "print (now.strftime(\"%Y-%m-%d %H:%M:%S\"))"
   ]
  },
  {
   "cell_type": "code",
   "execution_count": 5,
   "metadata": {},
   "outputs": [
    {
     "name": "stdout",
     "output_type": "stream",
     "text": [
      "Input the radius of the circle : 1.2\n",
      "The area of the circle with radius 1.2 is: 4.523893421169302\n"
     ]
    }
   ],
   "source": [
    "# Python Program to Compute the Area of a Circle\n",
    "from math import pi\n",
    "r = float(input (\"Input the radius of the circle : \"))\n",
    "print (\"The area of the circle with radius \" + str(r) + \" is: \" + str(pi * r**2))"
   ]
  },
  {
   "cell_type": "code",
   "execution_count": 10,
   "metadata": {},
   "outputs": [
    {
     "name": "stdout",
     "output_type": "stream",
     "text": [
      "Enter First nameWaleed\n",
      "Enter last nameAnwar\n",
      "Hello  Anwar Waleed\n"
     ]
    }
   ],
   "source": [
    "# Python Program  user's first and last name and print them in reverse order with a space between them.\n",
    "first_name =(input(\"Enter First name\"))\n",
    "last_name = (input(\"Enter last name\"))\n",
    "print(\"Hello  \" + last_name + \" \" + first_name)"
   ]
  },
  {
   "cell_type": "code",
   "execution_count": 29,
   "metadata": {},
   "outputs": [
    {
     "name": "stdout",
     "output_type": "stream",
     "text": [
      "Enter Value 1   2\n",
      "Enter Value 2   3\n",
      "Addition is:5\n"
     ]
    }
   ],
   "source": [
    "# User Input + Addition\n",
    "num1 = int(input(\"Enter Value 1   \"))\n",
    "num2 = int(input(\"Enter Value 2   \"))\n",
    "sum = num1 + num2\n",
    "print(\"Addition is:\" +str(sum))"
   ]
  },
  {
   "cell_type": "code",
   "execution_count": 38,
   "metadata": {},
   "outputs": [
    {
     "ename": "SyntaxError",
     "evalue": "Missing parentheses in call to 'print'. Did you mean print(\"The answer is\" , 3*3)? (<ipython-input-38-ee90fe3108f4>, line 3)",
     "output_type": "error",
     "traceback": [
      "\u001b[1;36m  File \u001b[1;32m\"<ipython-input-38-ee90fe3108f4>\"\u001b[1;36m, line \u001b[1;32m3\u001b[0m\n\u001b[1;33m    Old: print \"The answer is\" , 3*3\u001b[0m\n\u001b[1;37m                             ^\u001b[0m\n\u001b[1;31mSyntaxError\u001b[0m\u001b[1;31m:\u001b[0m Missing parentheses in call to 'print'. Did you mean print(\"The answer is\" , 3*3)?\n"
     ]
    }
   ],
   "source": [
    "# Python Poem Program\n",
    "\n",
    "Old: print \"The answer is\" , 3*3\n",
    "New: print(\"The answer is\" , 3*23\n",
    "\n",
    "Old: print a,           # Trailing comma suppresses newline\n",
    "New: print(a, end=\" \")  # Appends a space instead of a newline\n",
    "\n",
    "Old: print              # Prints a newline\n",
    "New: print()            # You must call the function!\n",
    "\n",
    "Old: print >>sys.stderr, \"fatal error\"\n",
    "New: print(\"fatal error\", file=sys.stderr)\n",
    "\n",
    "Old: print (a, b)       # prints repr((a, b))\n",
    "New: print((a, b))      # Not the same as print(a, b)\n",
    "           \n",
    "print(\"Twinkle, twinkle, little star, \\n\\tHow I wonder what you are! \\n\\t\\tUp above the world so high, \\n\\t\\tLike a diamond in the sky. \\nTwinkle, twinkle, little star, \\n\\tHow I wonder what you are!\")\n"
   ]
  },
  {
   "cell_type": "code",
   "execution_count": null,
   "metadata": {},
   "outputs": [],
   "source": []
  }
 ],
 "metadata": {
  "kernelspec": {
   "display_name": "Python 3",
   "language": "python",
   "name": "python3"
  },
  "language_info": {
   "codemirror_mode": {
    "name": "ipython",
    "version": 3
   },
   "file_extension": ".py",
   "mimetype": "text/x-python",
   "name": "python",
   "nbconvert_exporter": "python",
   "pygments_lexer": "ipython3",
   "version": "3.7.1"
  }
 },
 "nbformat": 4,
 "nbformat_minor": 2
}
